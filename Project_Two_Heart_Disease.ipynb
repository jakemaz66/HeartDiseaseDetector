{
  "nbformat": 4,
  "nbformat_minor": 0,
  "metadata": {
    "colab": {
      "provenance": []
    },
    "kernelspec": {
      "name": "python3",
      "display_name": "Python 3"
    }
  },
  "cells": [
    {
      "cell_type": "markdown",
      "metadata": {
        "id": "PEGG4I6n60cM"
      },
      "source": [
        "## Importing the libraries"
      ]
    },
    {
      "cell_type": "code",
      "source": [
        "import pandas as pd\n",
        "import numpy as np\n",
        "from sklearn.preprocessing import LabelEncoder\n",
        "from sklearn.compose import ColumnTransformer\n",
        "from sklearn.preprocessing import OneHotEncoder\n",
        "from sklearn.model_selection import train_test_split\n",
        "from sklearn.preprocessing import StandardScaler\n",
        "from sklearn.linear_model import LogisticRegression\n",
        "from sklearn.metrics import confusion_matrix, accuracy_score\n",
        "from sklearn.model_selection import cross_val_score"
      ],
      "metadata": {
        "id": "9THKtvnsa7E4"
      },
      "execution_count": 1,
      "outputs": []
    },
    {
      "cell_type": "markdown",
      "metadata": {
        "id": "Aa536pRY7Eq5"
      },
      "source": [
        "## Importing the dataset"
      ]
    },
    {
      "cell_type": "code",
      "source": [
        "dataset = pd.read_csv('heart_disease.csv')"
      ],
      "metadata": {
        "id": "N87KpUW4cBbB"
      },
      "execution_count": 2,
      "outputs": []
    },
    {
      "cell_type": "markdown",
      "source": [
        "## Cleaning the Data"
      ],
      "metadata": {
        "id": "GAvTRoylej1D"
      }
    },
    {
      "cell_type": "code",
      "source": [
        "#Accessing all the rows that contain missing data ('?'s)\n",
        "missing_rows = pd.DataFrame(columns = dataset.columns)\n",
        "\n",
        "for column in dataset.columns:\n",
        "  #If column is a string type\n",
        "  if (dataset[column].dtype == 'object'):\n",
        "    missing_rows = missing_rows.append(dataset[dataset[column].str.contains('\\?', na = False)])\n",
        "\n",
        "missing_rows = missing_rows.drop_duplicates()"
      ],
      "metadata": {
        "colab": {
          "base_uri": "https://localhost:8080/"
        },
        "id": "EprLXdFIemg5",
        "outputId": "7bbf94fc-dc11-4993-f762-6b87c1f54d5a"
      },
      "execution_count": 3,
      "outputs": [
        {
          "output_type": "stream",
          "name": "stderr",
          "text": [
            "<ipython-input-3-c0fbcabfa0dc>:7: FutureWarning: The frame.append method is deprecated and will be removed from pandas in a future version. Use pandas.concat instead.\n",
            "  missing_rows = missing_rows.append(dataset[dataset[column].str.contains('\\?', na = False)])\n",
            "<ipython-input-3-c0fbcabfa0dc>:7: FutureWarning: The frame.append method is deprecated and will be removed from pandas in a future version. Use pandas.concat instead.\n",
            "  missing_rows = missing_rows.append(dataset[dataset[column].str.contains('\\?', na = False)])\n",
            "<ipython-input-3-c0fbcabfa0dc>:7: FutureWarning: The frame.append method is deprecated and will be removed from pandas in a future version. Use pandas.concat instead.\n",
            "  missing_rows = missing_rows.append(dataset[dataset[column].str.contains('\\?', na = False)])\n",
            "<ipython-input-3-c0fbcabfa0dc>:7: FutureWarning: The frame.append method is deprecated and will be removed from pandas in a future version. Use pandas.concat instead.\n",
            "  missing_rows = missing_rows.append(dataset[dataset[column].str.contains('\\?', na = False)])\n",
            "<ipython-input-3-c0fbcabfa0dc>:7: FutureWarning: The frame.append method is deprecated and will be removed from pandas in a future version. Use pandas.concat instead.\n",
            "  missing_rows = missing_rows.append(dataset[dataset[column].str.contains('\\?', na = False)])\n",
            "<ipython-input-3-c0fbcabfa0dc>:7: FutureWarning: The frame.append method is deprecated and will be removed from pandas in a future version. Use pandas.concat instead.\n",
            "  missing_rows = missing_rows.append(dataset[dataset[column].str.contains('\\?', na = False)])\n",
            "<ipython-input-3-c0fbcabfa0dc>:7: FutureWarning: The frame.append method is deprecated and will be removed from pandas in a future version. Use pandas.concat instead.\n",
            "  missing_rows = missing_rows.append(dataset[dataset[column].str.contains('\\?', na = False)])\n",
            "<ipython-input-3-c0fbcabfa0dc>:7: FutureWarning: The frame.append method is deprecated and will be removed from pandas in a future version. Use pandas.concat instead.\n",
            "  missing_rows = missing_rows.append(dataset[dataset[column].str.contains('\\?', na = False)])\n",
            "<ipython-input-3-c0fbcabfa0dc>:7: FutureWarning: The frame.append method is deprecated and will be removed from pandas in a future version. Use pandas.concat instead.\n",
            "  missing_rows = missing_rows.append(dataset[dataset[column].str.contains('\\?', na = False)])\n",
            "<ipython-input-3-c0fbcabfa0dc>:7: FutureWarning: The frame.append method is deprecated and will be removed from pandas in a future version. Use pandas.concat instead.\n",
            "  missing_rows = missing_rows.append(dataset[dataset[column].str.contains('\\?', na = False)])\n"
          ]
        }
      ]
    },
    {
      "cell_type": "code",
      "source": [
        "print(missing_rows)"
      ],
      "metadata": {
        "colab": {
          "base_uri": "https://localhost:8080/"
        },
        "id": "xq6pU_2ig-Xk",
        "outputId": "a3c183e6-710f-48f0-c730-c9011723c036"
      },
      "execution_count": 4,
      "outputs": [
        {
          "output_type": "stream",
          "name": "stdout",
          "text": [
            "    Age   Sex      CP TrestBPS Chol   FBS RestECG Thalac Exang  Oldpeak Slope  \\\n",
            "143  52  male  notang      138  223   fal    norm    169   fal      0.0    up   \n",
            "157  38  male  notang      138  175   fal    norm    173   fal      0.0    up   \n",
            "165  43  male  asympt      132  247  TRUE     hyp    143  TRUE      0.1  flat   \n",
            "250  58  male  abnang      125  220   fal    norm    144   fal      0.4  flat   \n",
            "82   53   fem  notang      128  216   fal     hyp    115   fal      0.0    up   \n",
            "198  52  male  asympt      128  204  TRUE    norm    156  TRUE      1.0  flat   \n",
            "\n",
            "    Ca  Thal   Num Unnamed: 14  \n",
            "143  ?  norm  buff           H  \n",
            "157  ?  norm  buff           H  \n",
            "165  ?   rev  sick          S1  \n",
            "250  ?   rev  buff           H  \n",
            "82   0     ?  buff           H  \n",
            "198  0     ?  sick          S2  \n"
          ]
        }
      ]
    },
    {
      "cell_type": "code",
      "source": [
        "#Finding the counts of the CA column to find most common value\n",
        "Ca_count = dataset['Ca'].value_counts()\n",
        "print(Ca_count)"
      ],
      "metadata": {
        "colab": {
          "base_uri": "https://localhost:8080/"
        },
        "id": "Bpt4xFkQhTbO",
        "outputId": "9405c412-236e-43cb-e724-ddcc3492800b"
      },
      "execution_count": 5,
      "outputs": [
        {
          "output_type": "stream",
          "name": "stdout",
          "text": [
            "0    175\n",
            "1     65\n",
            "2     38\n",
            "3     20\n",
            "?      5\n",
            "Name: Ca, dtype: int64\n"
          ]
        }
      ]
    },
    {
      "cell_type": "code",
      "source": [
        "#Replacing ? Values with 0 (most common)\n",
        "dataset['Ca'] = dataset['Ca'].replace('?', '0')"
      ],
      "metadata": {
        "id": "WAs2qyOAjF2J"
      },
      "execution_count": 6,
      "outputs": []
    },
    {
      "cell_type": "code",
      "source": [
        "#Finding the counts of Thal column to find most common value\n",
        "Thal_count = dataset['Thal'].value_counts()\n",
        "print(Thal_count)"
      ],
      "metadata": {
        "colab": {
          "base_uri": "https://localhost:8080/"
        },
        "id": "cRz_RBtAjiL0",
        "outputId": "4e0cd255-f3c8-488c-c271-7ce86e6ce709"
      },
      "execution_count": 7,
      "outputs": [
        {
          "output_type": "stream",
          "name": "stdout",
          "text": [
            "norm    166\n",
            "rev     117\n",
            "fix      18\n",
            "?         2\n",
            "Name: Thal, dtype: int64\n"
          ]
        }
      ]
    },
    {
      "cell_type": "code",
      "source": [
        "#Replacing ? Values with norm(most common)\n",
        "dataset['Thal'] = dataset['Thal'].replace('?', 'norm')"
      ],
      "metadata": {
        "id": "k_pUKKZljk_3"
      },
      "execution_count": 8,
      "outputs": []
    },
    {
      "cell_type": "markdown",
      "source": [
        "## Making the Matrix of Features and Dependent Variable"
      ],
      "metadata": {
        "id": "MELKareYj6qz"
      }
    },
    {
      "cell_type": "code",
      "source": [
        "X = dataset.iloc[:, :-2].values\n",
        "y = dataset.iloc[:, -2].values"
      ],
      "metadata": {
        "id": "U5ABAssZkAZC"
      },
      "execution_count": 9,
      "outputs": []
    },
    {
      "cell_type": "code",
      "source": [
        "print(y)"
      ],
      "metadata": {
        "colab": {
          "base_uri": "https://localhost:8080/"
        },
        "id": "gTOlRwLfJx4q",
        "outputId": "2577c404-1c52-4aa8-a898-c2d57e7e110d"
      },
      "execution_count": 10,
      "outputs": [
        {
          "output_type": "stream",
          "name": "stdout",
          "text": [
            "['buff' 'sick' 'sick' 'buff' 'buff' 'buff' 'sick' 'buff' 'sick' 'sick'\n",
            " 'buff' 'buff' 'sick' 'buff' 'buff' 'buff' 'buff' 'sick' 'sick' 'sick'\n",
            " 'buff' 'buff' 'buff' 'buff' 'sick' 'buff' 'sick' 'sick' 'buff' 'buff'\n",
            " 'buff' 'sick' 'sick' 'sick' 'buff' 'sick' 'buff' 'buff' 'buff' 'sick'\n",
            " 'sick' 'buff' 'sick' 'buff' 'buff' 'buff' 'buff' 'sick' 'buff' 'sick'\n",
            " 'sick' 'sick' 'sick' 'buff' 'buff' 'sick' 'buff' 'sick' 'buff' 'sick'\n",
            " 'sick' 'sick' 'buff' 'sick' 'sick' 'buff' 'sick' 'sick' 'sick' 'sick'\n",
            " 'buff' 'sick' 'buff' 'buff' 'sick' 'buff' 'buff' 'buff' 'sick' 'buff'\n",
            " 'buff' 'buff' 'buff' 'buff' 'buff' 'buff' 'sick' 'buff' 'buff' 'buff'\n",
            " 'sick' 'sick' 'sick' 'buff' 'buff' 'buff' 'sick' 'sick' 'sick' 'sick'\n",
            " 'buff' 'sick' 'sick' 'buff' 'buff' 'buff' 'sick' 'sick' 'sick' 'sick'\n",
            " 'buff' 'sick' 'buff' 'buff' 'buff' 'buff' 'sick' 'sick' 'sick' 'buff'\n",
            " 'buff' 'sick' 'buff' 'sick' 'buff' 'sick' 'sick' 'buff' 'buff' 'buff'\n",
            " 'buff' 'buff' 'buff' 'sick' 'sick' 'sick' 'sick' 'sick' 'sick' 'buff'\n",
            " 'sick' 'buff' 'sick' 'buff' 'buff' 'sick' 'buff' 'sick' 'sick' 'buff'\n",
            " 'sick' 'buff' 'buff' 'sick' 'sick' 'buff' 'buff' 'buff' 'buff' 'buff'\n",
            " 'sick' 'sick' 'sick' 'buff' 'sick' 'sick' 'sick' 'buff' 'sick' 'buff'\n",
            " 'buff' 'buff' 'sick' 'buff' 'buff' 'buff' 'buff' 'buff' 'sick' 'sick'\n",
            " 'sick' 'buff' 'sick' 'buff' 'sick' 'buff' 'sick' 'sick' 'buff' 'buff'\n",
            " 'buff' 'buff' 'buff' 'buff' 'buff' 'buff' 'sick' 'sick' 'sick' 'buff'\n",
            " 'buff' 'buff' 'sick' 'sick' 'buff' 'sick' 'sick' 'sick' 'sick' 'buff'\n",
            " 'buff' 'buff' 'buff' 'buff' 'sick' 'buff' 'sick' 'sick' 'sick' 'sick'\n",
            " 'buff' 'buff' 'sick' 'buff' 'buff' 'buff' 'buff' 'buff' 'buff' 'buff'\n",
            " 'sick' 'sick' 'sick' 'buff' 'sick' 'buff' 'sick' 'buff' 'sick' 'buff'\n",
            " 'buff' 'buff' 'sick' 'buff' 'sick' 'buff' 'sick' 'buff' 'sick' 'sick'\n",
            " 'buff' 'buff' 'sick' 'sick' 'sick' 'buff' 'sick' 'sick' 'sick' 'sick'\n",
            " 'sick' 'sick' 'buff' 'sick' 'buff' 'buff' 'sick' 'buff' 'buff' 'sick'\n",
            " 'buff' 'buff' 'buff' 'buff' 'buff' 'sick' 'buff' 'sick' 'sick' 'sick'\n",
            " 'buff' 'sick' 'sick' 'buff' 'buff' 'buff' 'buff' 'buff' 'sick' 'buff'\n",
            " 'buff' 'sick' 'sick' 'buff' 'buff' 'sick' 'buff' 'buff' 'buff' 'buff'\n",
            " 'sick' 'buff' 'buff']\n"
          ]
        }
      ]
    },
    {
      "cell_type": "code",
      "source": [
        "print(X)"
      ],
      "metadata": {
        "colab": {
          "base_uri": "https://localhost:8080/"
        },
        "id": "Vn-2StYDJ2qA",
        "outputId": "6c2dccc6-20c8-44e7-dc0d-aad5d4b28fd9"
      },
      "execution_count": 11,
      "outputs": [
        {
          "output_type": "stream",
          "name": "stdout",
          "text": [
            "[[63 'male' 'angina' ... 'down' '0' 'fix']\n",
            " [67 'male' 'asympt' ... 'flat' '3' 'norm']\n",
            " [67 'male' 'asympt' ... 'flat' '2' 'rev']\n",
            " ...\n",
            " [49 'male' 'notang' ... 'up' '3' 'norm']\n",
            " [74 'fem' 'abnang' ... 'up' '1' 'norm']\n",
            " [54 'fem' 'notang' ... 'up' '1' 'norm']]\n"
          ]
        }
      ]
    },
    {
      "cell_type": "markdown",
      "source": [
        "## Encoding the Dependent Variable 'Sick' (1) or 'Buff' (0)"
      ],
      "metadata": {
        "id": "nA7nWD7hjt4B"
      }
    },
    {
      "cell_type": "code",
      "source": [
        "le = LabelEncoder()\n",
        "y = le.fit_transform(y)"
      ],
      "metadata": {
        "id": "gtQVl03Vj9OE"
      },
      "execution_count": 12,
      "outputs": []
    },
    {
      "cell_type": "code",
      "source": [
        "print(y)"
      ],
      "metadata": {
        "colab": {
          "base_uri": "https://localhost:8080/"
        },
        "id": "4jEr-Qr1m2kp",
        "outputId": "3e12c4e7-b4a4-4a68-9865-03a5002713bf"
      },
      "execution_count": 13,
      "outputs": [
        {
          "output_type": "stream",
          "name": "stdout",
          "text": [
            "[0 1 1 0 0 0 1 0 1 1 0 0 1 0 0 0 0 1 1 1 0 0 0 0 1 0 1 1 0 0 0 1 1 1 0 1 0\n",
            " 0 0 1 1 0 1 0 0 0 0 1 0 1 1 1 1 0 0 1 0 1 0 1 1 1 0 1 1 0 1 1 1 1 0 1 0 0\n",
            " 1 0 0 0 1 0 0 0 0 0 0 0 1 0 0 0 1 1 1 0 0 0 1 1 1 1 0 1 1 0 0 0 1 1 1 1 0\n",
            " 1 0 0 0 0 1 1 1 0 0 1 0 1 0 1 1 0 0 0 0 0 0 1 1 1 1 1 1 0 1 0 1 0 0 1 0 1\n",
            " 1 0 1 0 0 1 1 0 0 0 0 0 1 1 1 0 1 1 1 0 1 0 0 0 1 0 0 0 0 0 1 1 1 0 1 0 1\n",
            " 0 1 1 0 0 0 0 0 0 0 0 1 1 1 0 0 0 1 1 0 1 1 1 1 0 0 0 0 0 1 0 1 1 1 1 0 0\n",
            " 1 0 0 0 0 0 0 0 1 1 1 0 1 0 1 0 1 0 0 0 1 0 1 0 1 0 1 1 0 0 1 1 1 0 1 1 1\n",
            " 1 1 1 0 1 0 0 1 0 0 1 0 0 0 0 0 1 0 1 1 1 0 1 1 0 0 0 0 0 1 0 0 1 1 0 0 1\n",
            " 0 0 0 0 1 0 0]\n"
          ]
        }
      ]
    },
    {
      "cell_type": "markdown",
      "source": [
        "One Hot Encoding the Categorical Independent Variables 'Gender', 'Chest Pain Type', 'Fasting Blood Sugar', 'resting electrocardiographic results', 'exercise induced angina', 'Slope', 'Thal'"
      ],
      "metadata": {
        "id": "uEDCPSwPkBA6"
      }
    },
    {
      "cell_type": "code",
      "source": [
        "ct = ColumnTransformer(transformers=[('encoder', OneHotEncoder(), [1,2,5,6,8,10,12])], remainder='passthrough')\n",
        "X = np.array(ct.fit_transform(X))"
      ],
      "metadata": {
        "id": "eOKIAlC1lMYx"
      },
      "execution_count": 14,
      "outputs": []
    },
    {
      "cell_type": "code",
      "source": [
        "print(X)"
      ],
      "metadata": {
        "colab": {
          "base_uri": "https://localhost:8080/"
        },
        "id": "DXE_e5zVl5G6",
        "outputId": "75d6f268-3a36-4d8b-db26-7f591dc89a5c"
      },
      "execution_count": 15,
      "outputs": [
        {
          "output_type": "stream",
          "name": "stdout",
          "text": [
            "[[0.0 1.0 0.0 ... 150 2.3 '0']\n",
            " [0.0 1.0 0.0 ... 108 1.5 '3']\n",
            " [0.0 1.0 0.0 ... 129 2.6 '2']\n",
            " ...\n",
            " [0.0 1.0 0.0 ... 126 0.8 '3']\n",
            " [1.0 0.0 1.0 ... 121 0.2 '1']\n",
            " [1.0 0.0 0.0 ... 163 0.0 '1']]\n"
          ]
        }
      ]
    },
    {
      "cell_type": "markdown",
      "source": [
        "## Splitting Data into Training and Testing Set"
      ],
      "metadata": {
        "id": "t8T6W0awnvCi"
      }
    },
    {
      "cell_type": "code",
      "source": [
        "X_train, X_test, y_train, y_test = train_test_split(X, y, test_size = 0.2, random_state = 0)"
      ],
      "metadata": {
        "id": "P8GvhsQnnz3Q"
      },
      "execution_count": 16,
      "outputs": []
    },
    {
      "cell_type": "code",
      "source": [
        "print(X_train)"
      ],
      "metadata": {
        "colab": {
          "base_uri": "https://localhost:8080/"
        },
        "id": "xnV8shnjn7yw",
        "outputId": "3a9b3ba2-d229-412a-c682-48734cd11bd8"
      },
      "execution_count": 17,
      "outputs": [
        {
          "output_type": "stream",
          "name": "stdout",
          "text": [
            "[[0.0 1.0 0.0 ... 111 0.8 '0']\n",
            " [0.0 1.0 0.0 ... 166 0.5 '0']\n",
            " [0.0 1.0 0.0 ... 147 3.6 '0']\n",
            " ...\n",
            " [0.0 1.0 1.0 ... 103 1.4 '1']\n",
            " [0.0 1.0 0.0 ... 153 0.0 '1']\n",
            " [0.0 1.0 0.0 ... 125 0.0 '0']]\n"
          ]
        }
      ]
    },
    {
      "cell_type": "code",
      "source": [
        "len(X_test)"
      ],
      "metadata": {
        "colab": {
          "base_uri": "https://localhost:8080/"
        },
        "id": "8LPR43Jm5dJm",
        "outputId": "b6c22a9d-cd7f-4160-ebdd-71c6e41a4dcc"
      },
      "execution_count": 18,
      "outputs": [
        {
          "output_type": "execute_result",
          "data": {
            "text/plain": [
              "61"
            ]
          },
          "metadata": {},
          "execution_count": 18
        }
      ]
    },
    {
      "cell_type": "markdown",
      "source": [
        "## Feature Scaling"
      ],
      "metadata": {
        "id": "wDXfOKXnoqJc"
      }
    },
    {
      "cell_type": "code",
      "source": [
        "sc = StandardScaler()\n",
        "X_train = sc.fit_transform(X_train)\n",
        "X_test = sc.transform(X_test)"
      ],
      "metadata": {
        "id": "O__whTETotw7"
      },
      "execution_count": 19,
      "outputs": []
    },
    {
      "cell_type": "markdown",
      "metadata": {
        "id": "pS1Q-n_A7iZ_"
      },
      "source": [
        "## Training the Logistic Regression model on the Training set"
      ]
    },
    {
      "cell_type": "code",
      "source": [
        "classifier = LogisticRegression(penalty = 'l2', C = 0.5, solver = 'lbfgs', random_state = 0)\n",
        "classifier.fit(X_train, y_train)"
      ],
      "metadata": {
        "colab": {
          "base_uri": "https://localhost:8080/",
          "height": 74
        },
        "id": "kqwMXKlJhccf",
        "outputId": "6285453e-5fff-4884-f4ab-4ba014766a94"
      },
      "execution_count": 20,
      "outputs": [
        {
          "output_type": "execute_result",
          "data": {
            "text/plain": [
              "LogisticRegression(C=0.5, random_state=0)"
            ],
            "text/html": [
              "<style>#sk-container-id-1 {color: black;background-color: white;}#sk-container-id-1 pre{padding: 0;}#sk-container-id-1 div.sk-toggleable {background-color: white;}#sk-container-id-1 label.sk-toggleable__label {cursor: pointer;display: block;width: 100%;margin-bottom: 0;padding: 0.3em;box-sizing: border-box;text-align: center;}#sk-container-id-1 label.sk-toggleable__label-arrow:before {content: \"▸\";float: left;margin-right: 0.25em;color: #696969;}#sk-container-id-1 label.sk-toggleable__label-arrow:hover:before {color: black;}#sk-container-id-1 div.sk-estimator:hover label.sk-toggleable__label-arrow:before {color: black;}#sk-container-id-1 div.sk-toggleable__content {max-height: 0;max-width: 0;overflow: hidden;text-align: left;background-color: #f0f8ff;}#sk-container-id-1 div.sk-toggleable__content pre {margin: 0.2em;color: black;border-radius: 0.25em;background-color: #f0f8ff;}#sk-container-id-1 input.sk-toggleable__control:checked~div.sk-toggleable__content {max-height: 200px;max-width: 100%;overflow: auto;}#sk-container-id-1 input.sk-toggleable__control:checked~label.sk-toggleable__label-arrow:before {content: \"▾\";}#sk-container-id-1 div.sk-estimator input.sk-toggleable__control:checked~label.sk-toggleable__label {background-color: #d4ebff;}#sk-container-id-1 div.sk-label input.sk-toggleable__control:checked~label.sk-toggleable__label {background-color: #d4ebff;}#sk-container-id-1 input.sk-hidden--visually {border: 0;clip: rect(1px 1px 1px 1px);clip: rect(1px, 1px, 1px, 1px);height: 1px;margin: -1px;overflow: hidden;padding: 0;position: absolute;width: 1px;}#sk-container-id-1 div.sk-estimator {font-family: monospace;background-color: #f0f8ff;border: 1px dotted black;border-radius: 0.25em;box-sizing: border-box;margin-bottom: 0.5em;}#sk-container-id-1 div.sk-estimator:hover {background-color: #d4ebff;}#sk-container-id-1 div.sk-parallel-item::after {content: \"\";width: 100%;border-bottom: 1px solid gray;flex-grow: 1;}#sk-container-id-1 div.sk-label:hover label.sk-toggleable__label {background-color: #d4ebff;}#sk-container-id-1 div.sk-serial::before {content: \"\";position: absolute;border-left: 1px solid gray;box-sizing: border-box;top: 0;bottom: 0;left: 50%;z-index: 0;}#sk-container-id-1 div.sk-serial {display: flex;flex-direction: column;align-items: center;background-color: white;padding-right: 0.2em;padding-left: 0.2em;position: relative;}#sk-container-id-1 div.sk-item {position: relative;z-index: 1;}#sk-container-id-1 div.sk-parallel {display: flex;align-items: stretch;justify-content: center;background-color: white;position: relative;}#sk-container-id-1 div.sk-item::before, #sk-container-id-1 div.sk-parallel-item::before {content: \"\";position: absolute;border-left: 1px solid gray;box-sizing: border-box;top: 0;bottom: 0;left: 50%;z-index: -1;}#sk-container-id-1 div.sk-parallel-item {display: flex;flex-direction: column;z-index: 1;position: relative;background-color: white;}#sk-container-id-1 div.sk-parallel-item:first-child::after {align-self: flex-end;width: 50%;}#sk-container-id-1 div.sk-parallel-item:last-child::after {align-self: flex-start;width: 50%;}#sk-container-id-1 div.sk-parallel-item:only-child::after {width: 0;}#sk-container-id-1 div.sk-dashed-wrapped {border: 1px dashed gray;margin: 0 0.4em 0.5em 0.4em;box-sizing: border-box;padding-bottom: 0.4em;background-color: white;}#sk-container-id-1 div.sk-label label {font-family: monospace;font-weight: bold;display: inline-block;line-height: 1.2em;}#sk-container-id-1 div.sk-label-container {text-align: center;}#sk-container-id-1 div.sk-container {/* jupyter's `normalize.less` sets `[hidden] { display: none; }` but bootstrap.min.css set `[hidden] { display: none !important; }` so we also need the `!important` here to be able to override the default hidden behavior on the sphinx rendered scikit-learn.org. See: https://github.com/scikit-learn/scikit-learn/issues/21755 */display: inline-block !important;position: relative;}#sk-container-id-1 div.sk-text-repr-fallback {display: none;}</style><div id=\"sk-container-id-1\" class=\"sk-top-container\"><div class=\"sk-text-repr-fallback\"><pre>LogisticRegression(C=0.5, random_state=0)</pre><b>In a Jupyter environment, please rerun this cell to show the HTML representation or trust the notebook. <br />On GitHub, the HTML representation is unable to render, please try loading this page with nbviewer.org.</b></div><div class=\"sk-container\" hidden><div class=\"sk-item\"><div class=\"sk-estimator sk-toggleable\"><input class=\"sk-toggleable__control sk-hidden--visually\" id=\"sk-estimator-id-1\" type=\"checkbox\" checked><label for=\"sk-estimator-id-1\" class=\"sk-toggleable__label sk-toggleable__label-arrow\">LogisticRegression</label><div class=\"sk-toggleable__content\"><pre>LogisticRegression(C=0.5, random_state=0)</pre></div></div></div></div></div>"
            ]
          },
          "metadata": {},
          "execution_count": 20
        }
      ]
    },
    {
      "cell_type": "markdown",
      "metadata": {
        "id": "4cgD7EnB8Dnd"
      },
      "source": [
        "## Predicting the Test set results"
      ]
    },
    {
      "cell_type": "code",
      "source": [
        "print(y_test)"
      ],
      "metadata": {
        "colab": {
          "base_uri": "https://localhost:8080/"
        },
        "id": "CY_iESKMNFMR",
        "outputId": "efdb7a1c-6f3c-4cea-962a-d7d903efc55a"
      },
      "execution_count": 21,
      "outputs": [
        {
          "output_type": "stream",
          "name": "stdout",
          "text": [
            "[0 0 0 0 1 0 0 1 0 1 1 1 1 1 0 1 1 1 1 0 0 0 0 0 1 1 1 0 1 1 0 0 1 1 0 0 0\n",
            " 0 1 0 0 1 1 0 0 1 1 0 1 0 0 0 0 1 0 0 0 0 1 1 0]\n"
          ]
        }
      ]
    },
    {
      "cell_type": "code",
      "source": [
        "y_pred = classifier.predict(X_test)\n",
        "print(np.concatenate((y_pred.reshape(len(y_pred),1), y_test.reshape(len(y_test),1)),1))"
      ],
      "metadata": {
        "colab": {
          "base_uri": "https://localhost:8080/"
        },
        "id": "Wo9x-xyJouiW",
        "outputId": "f27ad9ed-ee0b-4427-dbe9-c26799212770"
      },
      "execution_count": 22,
      "outputs": [
        {
          "output_type": "stream",
          "name": "stdout",
          "text": [
            "[[0 0]\n",
            " [1 0]\n",
            " [0 0]\n",
            " [0 0]\n",
            " [0 1]\n",
            " [0 0]\n",
            " [0 0]\n",
            " [1 1]\n",
            " [1 0]\n",
            " [1 1]\n",
            " [1 1]\n",
            " [1 1]\n",
            " [1 1]\n",
            " [1 1]\n",
            " [0 0]\n",
            " [1 1]\n",
            " [1 1]\n",
            " [1 1]\n",
            " [1 1]\n",
            " [0 0]\n",
            " [0 0]\n",
            " [0 0]\n",
            " [0 0]\n",
            " [0 0]\n",
            " [1 1]\n",
            " [1 1]\n",
            " [1 1]\n",
            " [0 0]\n",
            " [1 1]\n",
            " [1 1]\n",
            " [0 0]\n",
            " [0 0]\n",
            " [1 1]\n",
            " [1 1]\n",
            " [0 0]\n",
            " [0 0]\n",
            " [0 0]\n",
            " [0 0]\n",
            " [1 1]\n",
            " [0 0]\n",
            " [0 0]\n",
            " [1 1]\n",
            " [1 1]\n",
            " [0 0]\n",
            " [0 0]\n",
            " [0 1]\n",
            " [1 1]\n",
            " [0 0]\n",
            " [1 1]\n",
            " [0 0]\n",
            " [0 0]\n",
            " [0 0]\n",
            " [0 0]\n",
            " [1 1]\n",
            " [1 0]\n",
            " [0 0]\n",
            " [0 0]\n",
            " [0 0]\n",
            " [1 1]\n",
            " [1 1]\n",
            " [0 0]]\n"
          ]
        }
      ]
    },
    {
      "cell_type": "markdown",
      "source": [
        "## Making a single prediction"
      ],
      "metadata": {
        "id": "uZTyRoHBL-dW"
      }
    },
    {
      "cell_type": "code",
      "source": [
        "X_test[22]"
      ],
      "metadata": {
        "colab": {
          "base_uri": "https://localhost:8080/"
        },
        "id": "IBYNcHGHMJq7",
        "outputId": "bd5cfb56-b002-40ab-82fa-4b2b5f3f3d3f"
      },
      "execution_count": 23,
      "outputs": [
        {
          "output_type": "execute_result",
          "data": {
            "text/plain": [
              "array([ 1.50674161, -1.50674161, -0.46484449, -0.29189346, -0.93593215,\n",
              "        1.61614984, -0.41119597,  0.41119597, -0.09128709, -1.01666781,\n",
              "        1.03362279, -0.68964466,  0.68964466, -0.26607604,  1.10461916,\n",
              "       -0.96747093, -0.26607604,  0.91287093, -0.79695366, -1.33350242,\n",
              "       -0.69510349, -0.73018809,  1.00684639, -0.91231127, -0.6945881 ])"
            ]
          },
          "metadata": {},
          "execution_count": 23
        }
      ]
    },
    {
      "cell_type": "code",
      "source": [
        "y_test[22]"
      ],
      "metadata": {
        "colab": {
          "base_uri": "https://localhost:8080/"
        },
        "id": "9FeTdA3PMPnC",
        "outputId": "2edf3fb1-4944-4750-9df6-227d5cbf4a2d"
      },
      "execution_count": 24,
      "outputs": [
        {
          "output_type": "execute_result",
          "data": {
            "text/plain": [
              "0"
            ]
          },
          "metadata": {},
          "execution_count": 24
        }
      ]
    },
    {
      "cell_type": "code",
      "source": [
        "print(classifier.predict([[ 1.50674161, -1.50674161, -0.46484449, -0.29189346, -0.93593215,\n",
        "        1.61614984, -0.41119597,  0.41119597, -0.09128709, -1.01666781,\n",
        "        1.03362279, -0.68964466,  0.68964466, -0.26607604,  1.10461916,\n",
        "       -0.96747093, -0.26607604,  0.91287093, -0.79695366, -1.33350242,\n",
        "       -0.69510349, -0.73018809,  1.00684639, -0.91231127, -0.6945881]]))"
      ],
      "metadata": {
        "colab": {
          "base_uri": "https://localhost:8080/"
        },
        "id": "PwX_SfY5MBU3",
        "outputId": "d89288ab-0dc8-47e9-f260-6b834a49607b"
      },
      "execution_count": 25,
      "outputs": [
        {
          "output_type": "stream",
          "name": "stdout",
          "text": [
            "[0]\n"
          ]
        }
      ]
    },
    {
      "cell_type": "markdown",
      "metadata": {
        "id": "26CHkZbs8Tu5"
      },
      "source": [
        "## Making the Confusion Matrix"
      ]
    },
    {
      "cell_type": "code",
      "source": [
        "cm = confusion_matrix(y_test, y_pred)\n",
        "print(cm)\n",
        "accuracy_score(y_test, y_pred)"
      ],
      "metadata": {
        "colab": {
          "base_uri": "https://localhost:8080/"
        },
        "id": "2Res7BrooyAd",
        "outputId": "39b852bb-92a6-4d79-81fc-3342ad55f1aa"
      },
      "execution_count": 26,
      "outputs": [
        {
          "output_type": "stream",
          "name": "stdout",
          "text": [
            "[[31  3]\n",
            " [ 2 25]]\n"
          ]
        },
        {
          "output_type": "execute_result",
          "data": {
            "text/plain": [
              "0.9180327868852459"
            ]
          },
          "metadata": {},
          "execution_count": 26
        }
      ]
    },
    {
      "cell_type": "markdown",
      "metadata": {
        "id": "kMErnLnu8hmb"
      },
      "source": [
        "## Computing the accuracy with k-Fold Cross Validation"
      ]
    },
    {
      "cell_type": "code",
      "source": [
        "accuracies = cross_val_score(estimator = classifier, X = X_train, y = y_train, cv = 10)\n",
        "print(\"Accuracy: {:.2f} %\".format(accuracies.mean()*100))\n",
        "print(\"Standard Deviation: {:.2f} %\".format(accuracies.std()*100))"
      ],
      "metadata": {
        "colab": {
          "base_uri": "https://localhost:8080/"
        },
        "id": "Vsw4kiR_kRTi",
        "outputId": "24f62960-e8b9-4412-c193-bad277d2179d"
      },
      "execution_count": 27,
      "outputs": [
        {
          "output_type": "stream",
          "name": "stdout",
          "text": [
            "Accuracy: 82.68 %\n",
            "Standard Deviation: 5.96 %\n"
          ]
        }
      ]
    }
  ]
}